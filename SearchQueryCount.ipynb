{
 "cells": [
  {
   "cell_type": "markdown",
   "metadata": {},
   "source": [
    "# Count the search queries\n",
    "\n",
    "Want a simple count of how many times each specific search query has been submitted."
   ]
  },
  {
   "cell_type": "code",
   "execution_count": null,
   "metadata": {
    "collapsed": false
   },
   "outputs": [],
   "source": [
    "import csv, operator\n",
    "searches_filename = 'searchresults.csv'\n",
    "delimiter_character = ';'\n",
    "search_queries = []\n",
    "unique_search_queries_set = set()\n",
    "unique_search_queries = []\n",
    "results = {}\n",
    "sorted_results = {}\n",
    "\n",
    "with open(searches_filename, 'r') as sq:\n",
    "    for row in csv.reader(sq, delimiter = delimiter_character):\n",
    "        search_queries.append(row[1]) # search query strings appear in 2nd column\n",
    "\n",
    "# Derive the unique_search_queries from search_queries\n",
    "for x in search_queries:\n",
    "    unique_search_queries_set.add(x)\n",
    "\n",
    "for x in unique_search_queries_set:\n",
    "    unique_search_queries.append(x)\n",
    "\n",
    "unique_search_queries_slice = unique_search_queries[0:499]\n",
    "#print(unique_search_queries_slice)\n",
    "#for unique_query in unique_search_queries:\n",
    "for unique_query in unique_search_queries_slice:\n",
    "    occurrences = 0\n",
    "    for query in search_queries:\n",
    "        if bool(unique_query.upper() == query.upper()):\n",
    "            occurrences = occurrences + 1\n",
    "    #print(\"Keyword \\\"\", keyword, \"\\\" was searched for\", occurrences, \"times\")\n",
    "    results[unique_query] = occurrences\n",
    "\n",
    "#print(results)\n",
    "\n",
    "sorted_results = sorted(results.items(), key=operator.itemgetter(1), reverse=True)\n",
    "#print(sorted_results)\n",
    "\n",
    "for result in sorted_results:\n",
    "    print(\"Query \\\"\" + result[0] + \"\\\" was submitted\", result[1], \"times\")\n",
    "\n",
    "# TODO: determine why sorted_results prints as a list, not a dictionary"
   ]
  },
  {
   "cell_type": "markdown",
   "metadata": {},
   "source": [
    "## References\n",
    "- http://stackoverflow.com/questions/12897374/get-unique-values-from-a-list-in-python\n",
    "- http://stackoverflow.com/questions/613183/sort-a-python-dictionary-by-value"
   ]
  }
 ],
 "metadata": {
  "kernelspec": {
   "display_name": "Python [default]",
   "language": "python",
   "name": "python3"
  },
  "language_info": {
   "codemirror_mode": {
    "name": "ipython",
    "version": 3
   },
   "file_extension": ".py",
   "mimetype": "text/x-python",
   "name": "python",
   "nbconvert_exporter": "python",
   "pygments_lexer": "ipython3",
   "version": "3.5.2"
  }
 },
 "nbformat": 4,
 "nbformat_minor": 1
}
