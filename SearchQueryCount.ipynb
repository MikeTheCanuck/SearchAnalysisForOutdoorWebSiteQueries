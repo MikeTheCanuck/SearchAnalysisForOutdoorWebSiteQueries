{
 "cells": [
  {
   "cell_type": "markdown",
   "metadata": {},
   "source": [
    "# Count the search queries\n",
    "\n",
    "Want a simple count of how many times each specific search query has been submitted."
   ]
  },
  {
   "cell_type": "code",
   "execution_count": 3,
   "metadata": {
    "collapsed": false
   },
   "outputs": [
    {
     "name": "stdout",
     "output_type": "stream",
     "text": [
      "Query \"colorado\" was submitted 173 times\n"
     ]
    }
   ],
   "source": [
    "import csv\n",
    "searches_filename = 'searchresults.csv'\n",
    "delimiter_character = ';'\n",
    "search_queries = []\n",
    "unique_search_queries = []\n",
    "results = []\n",
    "\n",
    "with open(searches_filename, 'r') as sq:\n",
    "    for row in csv.reader(sq, delimiter = delimiter_character):\n",
    "        search_queries.append(row[1]) # search query strings appear in 2nd column\n",
    "        \n",
    "# Derive the unique_search_queries from search_queries\n",
    "unique_search_queries.append('colorado') # Dummy value\n",
    "\n",
    "for unique_query in unique_search_queries:\n",
    "    occurrences = 0\n",
    "    for query in search_queries:\n",
    "        if bool(unique_query.upper() == query.upper()):\n",
    "            occurrences = occurrences + 1\n",
    "    #print(\"Keyword \\\"\", keyword, \"\\\" was searched for\", occurrences, \"times\")\n",
    "    results.append([unique_query, occurrences])\n",
    "\n",
    "#print(results)\n",
    "\n",
    "for result in results:\n",
    "    if result[1]:\n",
    "        print(\"Query \\\"\" + result[0] + \"\\\" was submitted\", result[1], \"times\")\n",
    "        \n",
    "# TODO: find all unique strings in the list search_queries\n",
    "# TODO: count the number of times each unique string occurs in the list search_queries\n",
    "# TODO: output results"
   ]
  }
 ],
 "metadata": {
  "kernelspec": {
   "display_name": "Python [default]",
   "language": "python",
   "name": "python3"
  },
  "language_info": {
   "codemirror_mode": {
    "name": "ipython",
    "version": 3
   },
   "file_extension": ".py",
   "mimetype": "text/x-python",
   "name": "python",
   "nbconvert_exporter": "python",
   "pygments_lexer": "ipython3",
   "version": "3.5.2"
  }
 },
 "nbformat": 4,
 "nbformat_minor": 1
}
