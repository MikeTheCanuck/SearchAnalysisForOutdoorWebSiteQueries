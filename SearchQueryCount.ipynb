{
 "cells": [
  {
   "cell_type": "markdown",
   "metadata": {},
   "source": [
    "# Count the search queries\n",
    "\n",
    "Generate a count of how many times each search query (set of query words) has been submitted to the site.\n",
    "\n",
    "## For Example\n",
    "Users have submitted three search queries to the site - \"Indiana\", \"Indiana\" and \"Indiana River\".  This code will return the following results:\n",
    "- the query \"Indiana\" was submitted 2 times\n",
    "- the query \"Indiana River\" was submitted 1 times\n",
    "\n",
    "## Limitations\n",
    "- because various users have submitted the same search query phrases but used different casing (e.g. \"Indiana\" vs \"indiana\"), the code renders all queries to lowercase for ease of comparison - this has the unfortunate side effect of making proper names harder to spot in the output"
   ]
  },
  {
   "cell_type": "code",
   "execution_count": null,
   "metadata": {
    "collapsed": false
   },
   "outputs": [],
   "source": [
    "from csv import reader\n",
    "from operator import itemgetter\n",
    "\n",
    "searches_filename = 'searchresults.csv'\n",
    "delimiter_character = ';'\n",
    "query_string_position_in_searches_file = 1 # search query strings appear in 2nd column\n",
    "\n",
    "search_queries = []\n",
    "unique_search_queries_set = set()\n",
    "unique_search_queries = []\n",
    "results = {}\n",
    "sorted_results = {}\n",
    "\n",
    "with open(searches_filename, 'r') as s:\n",
    "    for row in reader(s, delimiter = delimiter_character, skipinitialspace = True):\n",
    "        search_queries.append(row[query_string_position_in_searches_file])\n",
    "\n",
    "unique_search_queries_set = {i.lower() for i in search_queries}\n",
    "\n",
    "unique_search_queries = list(unique_search_queries_set)\n",
    "\n",
    "for unique_query in unique_search_queries[:99]: # slicing so that testing doesn't take forever, until the double-for-loop gets fixed\n",
    "    occurrences = 0\n",
    "    for query in search_queries:\n",
    "        if bool(unique_query == query.lower()): # lower() to match the unique_queries .lower()'ed earlier\n",
    "            occurrences = occurrences + 1\n",
    "    results[unique_query] = occurrences # add to the dictionary\n",
    "#print(results)\n",
    "\n",
    "sorted_results = sorted(results.items(), key=itemgetter(1), reverse=True) #outputs a list[], not a dict{}\n",
    "#print(sorted_results)\n",
    "\n",
    "for result in sorted_results:\n",
    "    print(\"The query \\\"\" + result[0] + \"\\\" was submitted\", result[1], \"times\")\n",
    "\n",
    "# TODO: start attacking the \"for in for\" performance issue - try building a dictionary of {unique, count} as early as possible\n",
    "# TODO: -- to make this easier, start carving off trivial functions \n",
    "# TODO: -- ultimately boil this down to a single for (or while) loop, which will radically improve performance\n",
    "# TODO: remove leading space(s) from search queries e.g. \" usgs\"\n",
    "# TODO: remove inner punctuation from search queries such as comma\n",
    "# TODO: strip out those search queries that simply submitted one or more URLs (prefixed with http://)"
   ]
  },
  {
   "cell_type": "markdown",
   "metadata": {},
   "source": [
    "## References\n",
    "- http://stackoverflow.com/questions/12897374/get-unique-values-from-a-list-in-python\n",
    "- http://stackoverflow.com/questions/613183/sort-a-python-dictionary-by-value"
   ]
  }
 ],
 "metadata": {
  "kernelspec": {
   "display_name": "Python [default]",
   "language": "python",
   "name": "python3"
  },
  "language_info": {
   "codemirror_mode": {
    "name": "ipython",
    "version": 3
   },
   "file_extension": ".py",
   "mimetype": "text/x-python",
   "name": "python",
   "nbconvert_exporter": "python",
   "pygments_lexer": "ipython3",
   "version": "3.5.2"
  }
 },
 "nbformat": 4,
 "nbformat_minor": 1
}
