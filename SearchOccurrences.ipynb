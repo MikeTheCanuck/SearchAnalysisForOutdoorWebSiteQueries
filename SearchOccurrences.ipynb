{
 "cells": [
  {
   "cell_type": "markdown",
   "metadata": {},
   "source": [
    "# Find Occurrences in Search Queries\n",
    "\n",
    "Based on the Ideation experiments I believe we have the pieces we need to assemble a good analysis - find all occurrences of keywords in the search query history, then provide a sorted ranking of how often those keywords were searched.\n",
    "\n",
    "Prerequisites:\n",
    "- both input files must exist in same directory as this notebook\n",
    "- searches_filename file contains the keywords of interest in the 2nd column"
   ]
  },
  {
   "cell_type": "code",
   "execution_count": 26,
   "metadata": {
    "collapsed": false
   },
   "outputs": [
    {
     "name": "stdout",
     "output_type": "stream",
     "text": [
      "There were 39747 searches:\n",
      "Keyword \" NAME \" was searched for 30 times\n",
      "Keyword \" ALABAMA \" was searched for 133 times\n",
      "Keyword \" ALASKA \" was searched for 92 times\n",
      "Keyword \" ARIZONA \" was searched for 130 times\n",
      "Keyword \" ARKANSAS \" was searched for 531 times\n",
      "Keyword \" CALIFORNIA \" was searched for 106 times\n",
      "Keyword \" COLORADO \" was searched for 708 times\n",
      "Keyword \" CONNECTICUT \" was searched for 78 times\n",
      "Keyword \" DELAWARE \" was searched for 117 times\n",
      "Keyword \" FLORIDA \" was searched for 99 times\n",
      "Keyword \" GEORGIA \" was searched for 157 times\n",
      "Keyword \" GUAM \" was searched for 7 times\n",
      "Keyword \" HAWAII \" was searched for 12 times\n",
      "Keyword \" IDAHO \" was searched for 224 times\n",
      "Keyword \" ILLINOIS \" was searched for 139 times\n",
      "Keyword \" INDIANA \" was searched for 82 times\n",
      "Keyword \" IOWA \" was searched for 50 times\n",
      "Keyword \" KANSAS \" was searched for 569 times\n",
      "Keyword \" KENTUCKY \" was searched for 61 times\n",
      "Keyword \" LOUISIANA \" was searched for 12 times\n",
      "Keyword \" MAINE \" was searched for 79 times\n",
      "Keyword \" MARYLAND \" was searched for 61 times\n",
      "Keyword \" MASSACHUSETTS \" was searched for 31 times\n",
      "Keyword \" MICHIGAN \" was searched for 75 times\n",
      "Keyword \" MINNESOTA \" was searched for 64 times\n",
      "Keyword \" MISSISSIPPI \" was searched for 48 times\n",
      "Keyword \" MISSOURI \" was searched for 208 times\n",
      "Keyword \" MONTANA \" was searched for 124 times\n",
      "Keyword \" NEBRASKA \" was searched for 21 times\n",
      "Keyword \" NEVADA \" was searched for 42 times\n",
      "Keyword \" NEW HAMPSHIRE \" was searched for 41 times\n",
      "Keyword \" NEW JERSEY \" was searched for 42 times\n",
      "Keyword \" NEW MEXICO \" was searched for 66 times\n",
      "Keyword \" NEW YORK \" was searched for 217 times\n",
      "Keyword \" NORTH CAROLINA \" was searched for 82 times\n",
      "Keyword \" NORTH DAKOTA \" was searched for 6 times\n",
      "Keyword \" OHIO \" was searched for 182 times\n",
      "Keyword \" OKLAHOMA \" was searched for 57 times\n",
      "Keyword \" OREGON \" was searched for 288 times\n",
      "Keyword \" PENNSYLVANIA \" was searched for 56 times\n",
      "Keyword \" PUERTO RICO \" was searched for 5 times\n",
      "Keyword \" RHODE ISLAND \" was searched for 24 times\n",
      "Keyword \" SOUTH CAROLINA \" was searched for 33 times\n",
      "Keyword \" SOUTH DAKOTA \" was searched for 38 times\n",
      "Keyword \" TENNESSEE \" was searched for 111 times\n",
      "Keyword \" TEXAS \" was searched for 144 times\n",
      "Keyword \" UTAH \" was searched for 189 times\n",
      "Keyword \" VERMONT \" was searched for 33 times\n",
      "Keyword \" VIRGINIA \" was searched for 273 times\n",
      "Keyword \" WASHINGTON \" was searched for 101 times\n",
      "Keyword \" WEST VIRGINIA \" was searched for 115 times\n",
      "Keyword \" WISCONSIN \" was searched for 108 times\n",
      "Keyword \" WYOMING \" was searched for 120 times\n",
      "True searches =  2662\n",
      "False searches =  37085\n",
      "Percent found in search results:  7%\n"
     ]
    }
   ],
   "source": [
    "import csv\n",
    "searches_filename = 'searchresults.csv'\n",
    "keyword_input_filename = 'states.csv'\n",
    "delimiter_character = ';'\n",
    "search_queries = []\n",
    "keyword_input = []\n",
    "results = []\n",
    "with open(keyword_input_filename, 'r') as kwi:\n",
    "    for row in csv.reader(kwi, delimiter = delimiter_character):\n",
    "        keyword_input.append(row[1].upper()) # states.csv has multiple columns, column 2 contains the spelled-out state name\n",
    "with open(searches_filename, 'r') as sq:\n",
    "    for row in csv.reader(sq, delimiter = delimiter_character):\n",
    "        search_queries.append(row[1].upper()) # search query strings appear in 2nd column\n",
    "\n",
    "searches = len(search_queries)\n",
    "print(\"There were\", searches, \"searches:\")\n",
    "for keyword in keyword_input:\n",
    "    occurrences = 0\n",
    "    for query in search_queries:\n",
    "        if bool(keyword in query):\n",
    "            occurrences = occurrences + 1\n",
    "    #print(\"Keyword \\\"\", keyword, \"\\\" was searched for\", occurrences, \"times\")\n",
    "    results.append([keyword, occurrences])\n",
    "\n",
    "#print(results)\n",
    "\n",
    "for result in results:\n",
    "    if result[1]:\n",
    "        print(\"Keyword \\\"\", result[0], \"\\\" was searched for\", result[1], \"times\")\n",
    "\n",
    "# TODO: clean up formatting of the keyword (remove spaces), only uppercase the compared content not the inputs\n",
    "# TODO: sort output by # of occurrences\n",
    "   # TODO: write results out to CSV file\n",
    "# TODO: sort results by percent found (descending)\n",
    "# TODO: introduce the extra layer of complexity where we're looking for any single word from the keyword input"
   ]
  }
 ],
 "metadata": {
  "kernelspec": {
   "display_name": "Python [default]",
   "language": "python",
   "name": "python3"
  },
  "language_info": {
   "codemirror_mode": {
    "name": "ipython",
    "version": 3
   },
   "file_extension": ".py",
   "mimetype": "text/x-python",
   "name": "python",
   "nbconvert_exporter": "python",
   "pygments_lexer": "ipython3",
   "version": "3.5.2"
  }
 },
 "nbformat": 4,
 "nbformat_minor": 1
}
