{
 "cells": [
  {
   "cell_type": "markdown",
   "metadata": {},
   "source": [
    "# Find Occurrences in Search Queries\n",
    "\n",
    "Based on the Ideation experiments I believe we have the pieces we need to assemble a good analysis - find all occurrences of keywords in the search query history, then provide a sorted ranking of how often those keywords were searched.\n",
    "\n",
    "Prerequisites:\n",
    "- both input files must exist in same directory as this notebook\n",
    "- searches_filename file stores the strings-to-search in the 2nd column"
   ]
  },
  {
   "cell_type": "code",
   "execution_count": null,
   "metadata": {
    "collapsed": false
   },
   "outputs": [],
   "source": [
    "from csv import reader\n",
    "from operator import itemgetter\n",
    "\n",
    "searches_filename = 'searchresults.csv'\n",
    "keyword_input_filename = 'states.csv'\n",
    "delimiter_character = ';'\n",
    "\n",
    "search_queries = []\n",
    "keyword_input = []\n",
    "results = []\n",
    "results_dict = {}\n",
    "sorted_results = {}\n",
    "\n",
    "with open(keyword_input_filename, 'r') as kwi:\n",
    "    for row in reader(kwi, delimiter = delimiter_character):\n",
    "        keyword_input.append(row[1]) # states.csv has multiple columns, column 2 contains the spelled-out state name\n",
    "with open(searches_filename, 'r') as sq:\n",
    "    for row in reader(sq, delimiter = delimiter_character):\n",
    "        search_queries.append(row[1]) # search query strings appear in 2nd column\n",
    "\n",
    "print(\"There were\", len(search_queries), \"searches:\")\n",
    "\n",
    "for keyword in keyword_input:\n",
    "    occurrences = 0\n",
    "    for query in search_queries:\n",
    "        if bool(keyword.upper() in query.upper()):\n",
    "            occurrences = occurrences + 1\n",
    "    #results.append([keyword, occurrences, query])\n",
    "    results_dict[keyword] = occurrences\n",
    "\n",
    "#for result in results:\n",
    "#    if result[1]:\n",
    "#        print(\"Keyword \\\"\" + result[0] + \"\\\" was searched for\", result[1], \"times\")\n",
    "\n",
    "sorted_results = sorted(results_dict.items(), key=itemgetter(1), reverse=True)\n",
    "\n",
    "for result in sorted_results:\n",
    "    print(\"The query \\\"\" + result[0] + \"\\\" was searched for\", result[1], \"times\")\n",
    "        \n",
    "# TODO: write results out to CSV file\n",
    "# TODO: introduce the extra layer of complexity where we're looking for any single word from the keyword input"
   ]
  }
 ],
 "metadata": {
  "anaconda-cloud": {},
  "kernelspec": {
   "display_name": "Python [default]",
   "language": "python",
   "name": "python3"
  },
  "language_info": {
   "codemirror_mode": {
    "name": "ipython",
    "version": 3
   },
   "file_extension": ".py",
   "mimetype": "text/x-python",
   "name": "python",
   "nbconvert_exporter": "python",
   "pygments_lexer": "ipython3",
   "version": "3.5.2"
  }
 },
 "nbformat": 4,
 "nbformat_minor": 1
}
