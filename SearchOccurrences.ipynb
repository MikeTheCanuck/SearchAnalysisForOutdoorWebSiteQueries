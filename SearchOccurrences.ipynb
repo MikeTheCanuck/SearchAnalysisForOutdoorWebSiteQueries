{
 "cells": [
  {
   "cell_type": "markdown",
   "metadata": {},
   "source": [
    "# Find Occurrences in Search Queries\n",
    "\n",
    "Based on the Ideation experiments I believe we have the pieces we need to assemble a good analysis - find all occurrences of keywords in the search query history, then provide a sorted ranking of how often those keywords were searched.\n",
    "\n",
    "## Prerequisites:\n",
    "- both input files must exist in same directory as this notebook\n",
    "- searches_filename file stores the strings-to-search in the 2nd column\n",
    "- each CSV must contain a header row"
   ]
  },
  {
   "cell_type": "code",
   "execution_count": null,
   "metadata": {
    "collapsed": false
   },
   "outputs": [],
   "source": [
    "# TODO: find out why throws this error when I don't import all of csv (just reader, writer): NameError: name 'QUOTE_NONNUMERIC' is not defined\n",
    "# TODO: play with DictReader/DictWriter to enable writing a header row to the output_file\n",
    "# TODO: introduce the extra layer of complexity where we're looking for any single word from the keyword input\n",
    "\n",
    "#from csv import reader, writer\n",
    "import csv\n",
    "from operator import itemgetter\n",
    "\n",
    "searches_filename = 'searchresults.csv'\n",
    "keyword_input_filename = 'states.csv'\n",
    "delimiter_character = ';'\n",
    "\n",
    "search_queries = []\n",
    "keyword_input = []\n",
    "results = []\n",
    "results_dict = {}\n",
    "\n",
    "with open(searches_filename, 'r') as ss:\n",
    "    s_reader = csv.reader(ss, delimiter = delimiter_character)\n",
    "    header_row = next(s_reader)\n",
    "    for row in s_reader:\n",
    "        search_queries.append(row[1].lower()) # search qsuery strings appear in 2nd column\n",
    "\n",
    "print(\"There were\", len(search_queries), \"searches\")\n",
    "\n",
    "with open(keyword_input_filename, 'r') as kwi:\n",
    "    kw_reader = csv.reader(kwi, delimiter = delimiter_character)\n",
    "    header_row = next(kw_reader)\n",
    "    for row in kw_reader:\n",
    "        keyword_input.append(row[1]) # states.csv has multiple columns, column 2 contains the spelled-out state name"
   ]
  },
  {
   "cell_type": "code",
   "execution_count": null,
   "metadata": {
    "collapsed": true
   },
   "outputs": [],
   "source": [
    "# Option A: Count the number of times the keyword appears in all searches, using double for loop\n",
    "for keyword in keyword_input:\n",
    "    occurrences = 0\n",
    "    for query in search_queries:\n",
    "        if bool(keyword.upper() in query.upper()):\n",
    "            occurrences = occurrences + 1\n",
    "    results.append([keyword, occurrences])\n",
    "    results_dict[keyword] = occurrences"
   ]
  },
  {
   "cell_type": "code",
   "execution_count": null,
   "metadata": {
    "collapsed": false
   },
   "outputs": [],
   "source": [
    "# Option B: Count the number of times the keyword appears in all searches using a dictionary comprehension\n",
    "\n",
    "search_query_totals = dict()\n",
    "# First create a dictionary of the unique search_queries (lower()'d) and how many times that query appears\n",
    "for query in search_queries:\n",
    "    search_query_totals.setdefault(query, 0)\n",
    "    search_query_totals[query] = search_query_totals.get(query, 0) + 1    \n",
    "#print(search_query_totals[\"indiana river\"])\n",
    "#len(search_query_totals)\n",
    "\n",
    "# Then search the search_queries for each keyword, and count the number of queries that include keyword,\n",
    "#   multiplying each match by the count for that search_phrase\n"
   ]
  },
  {
   "cell_type": "code",
   "execution_count": null,
   "metadata": {
    "collapsed": false
   },
   "outputs": [],
   "source": [
    "# Print out the results sorted by the search query\n",
    "for result in results:\n",
    "    if result[1]:\n",
    "        print(\"Keyword \\\"\" + result[0] + \"\\\" was searched for\", result[1], \"times\")"
   ]
  },
  {
   "cell_type": "code",
   "execution_count": null,
   "metadata": {
    "collapsed": false
   },
   "outputs": [],
   "source": [
    "# Print out the results sorted by the number of occurrences\n",
    "sorted_results = {}\n",
    "\n",
    "sorted_results = sorted(results_dict.items(), key=itemgetter(1), reverse=True)\n",
    "\n",
    "for result in sorted_results:\n",
    "    print(\"The query \\\"\" + result[0] + \"\\\" was searched for\", result[1], \"times\")"
   ]
  },
  {
   "cell_type": "code",
   "execution_count": null,
   "metadata": {
    "collapsed": false
   },
   "outputs": [],
   "source": [
    "# Export results to CSV file\n",
    "output_file = open(\"SearchOccurrencesAnalysis-sorted.csv\", 'w')\n",
    "with output_file as f:\n",
    "    wr = writer(output_file, quoting=csv.QUOTE_NONNUMERIC)\n",
    "#    wr.writerow(\"Term Counted, Number of Occurrences\") # TODO: figure out what method I actually need to call\n",
    "    wr.writerows(results)"
   ]
  },
  {
   "cell_type": "markdown",
   "metadata": {},
   "source": [
    "# References\n",
    "- http://stackoverflow.com/questions/8263489/python-csv-read-fails-on-second-iteration"
   ]
  }
 ],
 "metadata": {
  "anaconda-cloud": {},
  "kernelspec": {
   "display_name": "Python [default]",
   "language": "python",
   "name": "python3"
  },
  "language_info": {
   "codemirror_mode": {
    "name": "ipython",
    "version": 3
   },
   "file_extension": ".py",
   "mimetype": "text/x-python",
   "name": "python",
   "nbconvert_exporter": "python",
   "pygments_lexer": "ipython3",
   "version": "3.5.2"
  }
 },
 "nbformat": 4,
 "nbformat_minor": 1
}
