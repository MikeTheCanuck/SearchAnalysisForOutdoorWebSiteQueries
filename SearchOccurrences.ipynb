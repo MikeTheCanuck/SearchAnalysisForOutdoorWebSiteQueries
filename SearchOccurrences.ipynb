{
 "cells": [
  {
   "cell_type": "markdown",
   "metadata": {},
   "source": [
    "# Find Occurrences in Search Queries\n",
    "\n",
    "Based on the Ideation experiments I believe we have the pieces we need to assemble a good analysis - find all occurrences of keywords in the search query history, then provide a sorted ranking of how often those keywords were searched.\n",
    "\n",
    "Prerequisites:\n",
    "- both input files must exist in same directory as this notebook\n",
    "- searches_filename file contains the keywords of interest in the 2nd column"
   ]
  },
  {
   "cell_type": "code",
   "execution_count": 6,
   "metadata": {
    "collapsed": false
   },
   "outputs": [
    {
     "name": "stdout",
     "output_type": "stream",
     "text": [
      "True searches =  2662\n",
      "False searches =  37085\n",
      "Percent found in search results:  7%\n"
     ]
    }
   ],
   "source": [
    "import csv\n",
    "searches_filename = 'searchresults.csv'\n",
    "keyword_input_filename = 'states.csv'\n",
    "delimiter_character = ';'\n",
    "search_queries = []\n",
    "keyword_input = []\n",
    "with open(keyword_input_filename, 'r') as kwi:\n",
    "    for row in csv.reader(kwi, delimiter = delimiter_character):\n",
    "        keyword_input.append(row[1].upper()) # states.csv has multiple columns, column 2 contains the spelled-out state name\n",
    "with open(searches_filename, 'r') as sq:\n",
    "    for row in csv.reader(sq, delimiter = delimiter_character):\n",
    "        search_queries.append(row[1].upper()) # search query strings appear in 2nd column\n",
    "countTrue = 0\n",
    "countFalse = 0\n",
    "with open(searches_filename, 'r') as f:\n",
    "    for row in csv.reader(f, delimiter = delimiter_character, skipinitialspace=False):\n",
    "        #print(','.join(row))\n",
    "        if bool(row[1].upper() in keyword_input_list): #searchresults.csv has multiple columns, column 2 contains the search query terms\n",
    "            countTrue = countTrue + 1\n",
    "        else:\n",
    "            countFalse = countFalse + 1\n",
    "print('True searches = ', countTrue)\n",
    "print('False searches = ', countFalse)\n",
    "print('Percent found in search results: ', \"{0:.0f}%\".format(countTrue/countFalse * 100))\n",
    "\n",
    "\n",
    "# TODO: loop through all occurrences in search_input, calculate the percent found for each term\n",
    "## 0. count the number of rows of search_queries - that's the denominator\n",
    "## 1. for each keyword, determine how many times it appears in the search_queries\n",
    "## 2. append to new list/dictionary/tuple of {search_term, occurrences_in_search_queries}\n",
    "# TODO: write results out to CSV file\n",
    "# TODO: sort results by percent found (descending)\n",
    "# TODO: introduce the extra layer of complexity where we're looking for any single word from the keyword input"
   ]
  }
 ],
 "metadata": {
  "kernelspec": {
   "display_name": "Python [default]",
   "language": "python",
   "name": "python3"
  },
  "language_info": {
   "codemirror_mode": {
    "name": "ipython",
    "version": 3
   },
   "file_extension": ".py",
   "mimetype": "text/x-python",
   "name": "python",
   "nbconvert_exporter": "python",
   "pygments_lexer": "ipython3",
   "version": "3.5.2"
  }
 },
 "nbformat": 4,
 "nbformat_minor": 1
}
