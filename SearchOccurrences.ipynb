{
 "cells": [
  {
   "cell_type": "markdown",
   "metadata": {},
   "source": [
    "# Find Occurrences in Search Queries\n",
    "\n",
    "Based on the Ideation experiments I believe we have the pieces we need to assemble a good analysis - find all occurrences of keywords in the search query history, then provide a sorted ranking of how often those keywords were searched.\n",
    "\n",
    "Prerequisites:\n",
    "- both input files must exist in same directory as this notebook\n",
    "- searches_filename file stores the strings-to-search in the 2nd column"
   ]
  },
  {
   "cell_type": "code",
   "execution_count": 28,
   "metadata": {
    "collapsed": false
   },
   "outputs": [
    {
     "name": "stdout",
     "output_type": "stream",
     "text": [
      "There were 39747 searches:\n",
      "Keyword \"name\" was searched for 30 times\n",
      "Keyword \"Alabama\" was searched for 133 times\n",
      "Keyword \"Alaska\" was searched for 92 times\n",
      "Keyword \"Arizona\" was searched for 130 times\n",
      "Keyword \"Arkansas\" was searched for 531 times\n",
      "Keyword \"California\" was searched for 106 times\n",
      "Keyword \"Colorado\" was searched for 708 times\n",
      "Keyword \"Connecticut\" was searched for 78 times\n",
      "Keyword \"Delaware\" was searched for 117 times\n",
      "Keyword \"Florida\" was searched for 99 times\n",
      "Keyword \"Georgia\" was searched for 157 times\n",
      "Keyword \"Guam\" was searched for 7 times\n",
      "Keyword \"Hawaii\" was searched for 12 times\n",
      "Keyword \"Idaho\" was searched for 224 times\n",
      "Keyword \"Illinois\" was searched for 139 times\n",
      "Keyword \"Indiana\" was searched for 82 times\n",
      "Keyword \"Iowa\" was searched for 50 times\n",
      "Keyword \"Kansas\" was searched for 569 times\n",
      "Keyword \"Kentucky\" was searched for 61 times\n",
      "Keyword \"Louisiana\" was searched for 12 times\n",
      "Keyword \"Maine\" was searched for 79 times\n",
      "Keyword \"Maryland\" was searched for 61 times\n",
      "Keyword \"Massachusetts\" was searched for 31 times\n",
      "Keyword \"Michigan\" was searched for 75 times\n",
      "Keyword \"Minnesota\" was searched for 64 times\n",
      "Keyword \"Mississippi\" was searched for 48 times\n",
      "Keyword \"Missouri\" was searched for 208 times\n",
      "Keyword \"Montana\" was searched for 124 times\n",
      "Keyword \"Nebraska\" was searched for 21 times\n",
      "Keyword \"Nevada\" was searched for 42 times\n",
      "Keyword \"New Hampshire\" was searched for 41 times\n",
      "Keyword \"New Jersey\" was searched for 42 times\n",
      "Keyword \"New Mexico\" was searched for 66 times\n",
      "Keyword \"New York\" was searched for 217 times\n",
      "Keyword \"North Carolina\" was searched for 82 times\n",
      "Keyword \"North Dakota\" was searched for 6 times\n",
      "Keyword \"Ohio\" was searched for 182 times\n",
      "Keyword \"Oklahoma\" was searched for 57 times\n",
      "Keyword \"Oregon\" was searched for 288 times\n",
      "Keyword \"Pennsylvania\" was searched for 56 times\n",
      "Keyword \"Puerto Rico\" was searched for 5 times\n",
      "Keyword \"Rhode Island\" was searched for 24 times\n",
      "Keyword \"South Carolina\" was searched for 33 times\n",
      "Keyword \"South Dakota\" was searched for 38 times\n",
      "Keyword \"Tennessee\" was searched for 111 times\n",
      "Keyword \"Texas\" was searched for 144 times\n",
      "Keyword \"Utah\" was searched for 189 times\n",
      "Keyword \"Vermont\" was searched for 33 times\n",
      "Keyword \"Virginia\" was searched for 273 times\n",
      "Keyword \"Washington\" was searched for 101 times\n",
      "Keyword \"West Virginia\" was searched for 115 times\n",
      "Keyword \"Wisconsin\" was searched for 108 times\n",
      "Keyword \"Wyoming\" was searched for 120 times\n"
     ]
    }
   ],
   "source": [
    "import csv\n",
    "searches_filename = 'searchresults.csv'\n",
    "keyword_input_filename = 'states.csv'\n",
    "delimiter_character = ';'\n",
    "search_queries = []\n",
    "keyword_input = []\n",
    "results = []\n",
    "with open(keyword_input_filename, 'r') as kwi:\n",
    "    for row in csv.reader(kwi, delimiter = delimiter_character):\n",
    "        keyword_input.append(row[1]) # states.csv has multiple columns, column 2 contains the spelled-out state name\n",
    "with open(searches_filename, 'r') as sq:\n",
    "    for row in csv.reader(sq, delimiter = delimiter_character):\n",
    "        search_queries.append(row[1]) # search query strings appear in 2nd column\n",
    "\n",
    "searches = len(search_queries)\n",
    "print(\"There were\", searches, \"searches:\")\n",
    "for keyword in keyword_input:\n",
    "    occurrences = 0\n",
    "    for query in search_queries:\n",
    "        if bool(keyword.upper() in query.upper()):\n",
    "            occurrences = occurrences + 1\n",
    "    #print(\"Keyword \\\"\", keyword, \"\\\" was searched for\", occurrences, \"times\")\n",
    "    results.append([keyword, occurrences])\n",
    "\n",
    "#print(results)\n",
    "\n",
    "for result in results:\n",
    "    if result[1]:\n",
    "        print(\"Keyword \\\"\" + result[0] + \"\\\" was searched for\", result[1], \"times\")\n",
    "\n",
    "# TODO: refactor lists to dictionaries or tuples as appropriate\n",
    "# TODO: sort output by # of occurrences\n",
    "# TODO: write results out to CSV file\n",
    "# TODO: introduce the extra layer of complexity where we're looking for any single word from the keyword input"
   ]
  }
 ],
 "metadata": {
  "kernelspec": {
   "display_name": "Python [default]",
   "language": "python",
   "name": "python3"
  },
  "language_info": {
   "codemirror_mode": {
    "name": "ipython",
    "version": 3
   },
   "file_extension": ".py",
   "mimetype": "text/x-python",
   "name": "python",
   "nbconvert_exporter": "python",
   "pygments_lexer": "ipython3",
   "version": "3.5.2"
  }
 },
 "nbformat": 4,
 "nbformat_minor": 1
}
