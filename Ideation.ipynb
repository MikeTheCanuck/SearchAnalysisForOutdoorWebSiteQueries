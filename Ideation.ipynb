{
 "cells": [
  {
   "cell_type": "markdown",
   "metadata": {},
   "source": [
    "# Analysis Ideas for Search Queries from Outdoors site\n",
    "## Background\n",
    "Client has a log of all keyword searches that have been submitted to their outdoors site for the past five years.\n",
    "\n",
    "The search results include a number of comma-separated columns, but the only data column of interest right now are the search query terms submitted by site users.\n",
    "\n",
    "Each search query submission is a single string of one or more space-separated words.\n",
    "\n",
    "Client already has a set of lists of the names of Rivers, Towns, Trips and Runs.  He would like to know the frequency (proportion) of searches that:\n",
    "- are one or another type of {rivers, towns, trips or runs} e.g. \"ohio\" = {river} [assuming no word exists in > 1 list/category]\n",
    "- for each category, which list entry is most frequently requested e.g. \"colorado\" is the most frequently-searched river\n",
    "- only request one type of data (only strings that are included in the category lists) vs. those requests that include filtering terminology (e.g. \"x river\" vs \"x river rafting\")\n",
    "\n",
    "## Code ideas\n",
    "- list.remove(string) # will remove the first instance of a string - can reuse the remove_all() function I defined\n",
    "- string.split(' ') # will break apart the search query string into tokens\n",
    "- x in y # will test whether string 'x' appears in list 'y' [remembering that strings are also lists]\n",
    "- I could add new fields to the CSV (or a new CSV) for each search entry, to indicate things like\n",
    "- - category it belongs to\n",
    "- - does it include the filtering term (True/False)\n",
    "- - Stripping quotes around strings in CSV fields is automatic for the CSV module: http://stackoverflow.com/questions/1707558/can-python-remove-double-quotes-from-a-string-when-reading-in-text-file"
   ]
  },
  {
   "cell_type": "markdown",
   "metadata": {},
   "source": [
    "One generic way to open a file and start parsing:"
   ]
  },
  {
   "cell_type": "code",
   "execution_count": 60,
   "metadata": {
    "collapsed": false
   },
   "outputs": [
    {
     "data": {
      "text/plain": [
       "'\"colorado\"'"
      ]
     },
     "execution_count": 60,
     "metadata": {},
     "output_type": "execute_result"
    }
   ],
   "source": [
    "f = open('searchresults.csv', 'r') # 'r' opens the file as strings, 'rb' opens the file as bytes\n",
    "f.readline()\n",
    "f.readline()\n",
    "query = f.readline()\n",
    "querylist = query.split(';')\n",
    "querylist[1]\n",
    "#query"
   ]
  },
  {
   "cell_type": "markdown",
   "metadata": {},
   "source": [
    "Here's another approach that uses the CSV module"
   ]
  },
  {
   "cell_type": "code",
   "execution_count": 102,
   "metadata": {
    "collapsed": false
   },
   "outputs": [
    {
     "name": "stdout",
     "output_type": "stream",
     "text": [
      "True searches =  2662\n",
      "False searches =  37085\n"
     ]
    }
   ],
   "source": [
    "import csv\n",
    "filename = 'searchresults.csv'\n",
    "#f = open(filename, 'rb')\n",
    "states = 'states.csv'\n",
    "stateslist = []\n",
    "with open(states, 'r') as st:\n",
    "    for row in csv.reader(st, delimiter = ';'):\n",
    "        stateslist.append(row[1].upper()) # states.csv has multiple columns, column 2 contains the spelled-out state name\n",
    "countTrue = 0\n",
    "countFalse = 0\n",
    "with open(filename, 'r') as f:\n",
    "    for row in csv.reader(f, delimiter = ';', skipinitialspace=False):\n",
    "        #print(','.join(row))\n",
    "        if bool(row[1].upper() in stateslist): #searchresults.csv has multiple columns, column 2 contains the search query terms\n",
    "            countTrue = countTrue + 1\n",
    "        else:\n",
    "            countFalse = countFalse + 1\n",
    "print('True searches = ', countTrue)\n",
    "print('False searches = ', countFalse)"
   ]
  }
 ],
 "metadata": {
  "anaconda-cloud": {},
  "kernelspec": {
   "display_name": "Python [default]",
   "language": "python",
   "name": "python3"
  },
  "language_info": {
   "codemirror_mode": {
    "name": "ipython",
    "version": 3
   },
   "file_extension": ".py",
   "mimetype": "text/x-python",
   "name": "python",
   "nbconvert_exporter": "python",
   "pygments_lexer": "ipython3",
   "version": "3.5.2"
  }
 },
 "nbformat": 4,
 "nbformat_minor": 1
}
